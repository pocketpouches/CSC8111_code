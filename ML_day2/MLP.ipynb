{
  "cells": [
    {
      "cell_type": "code",
      "execution_count": null,
      "metadata": {
        "id": "HodR6m7V-dVB",
        "outputId": "640c5222-bbab-47d2-a968-b3e23e3dc3ff"
      },
      "outputs": [
        {
          "name": "stderr",
          "output_type": "stream",
          "text": [
            "Using TensorFlow backend.\n"
          ]
        }
      ],
      "source": [
        "from keras.models import Sequential\n",
        "from keras.layers import Dense, Activation, Dropout\n",
        "from keras.datasets import mnist\n",
        "from keras.utils import np_utils"
      ]
    },
    {
      "cell_type": "code",
      "execution_count": null,
      "metadata": {
        "id": "ZSiAWg2U-dVG"
      },
      "outputs": [],
      "source": [
        "batch_size = 128\n",
        "nb_classes = 10\n",
        "im_dim = 784 # the total pixel number \n",
        "nb_hidden = 256\n",
        "nb_epoch = 5"
      ]
    },
    {
      "cell_type": "code",
      "execution_count": null,
      "metadata": {
        "id": "5UhfmHrN-dVJ"
      },
      "outputs": [],
      "source": [
        "# Load MNIST dataset\n",
        "(X_train, y_train), (X_test, y_test) = mnist.load_data()\n",
        "X_train = X_train.reshape(60000, im_dim)\n",
        "X_test = X_test.reshape(10000, im_dim)\n",
        "X_train = X_train.astype('float32')\n",
        "X_test = X_test.astype('float32')\n",
        "X_train /= 255\n",
        "X_test /= 255\n",
        "Y_train = np_utils.to_categorical(y_train, nb_classes)\n",
        "Y_test = np_utils.to_categorical(y_test, nb_classes)"
      ]
    },
    {
      "cell_type": "code",
      "execution_count": null,
      "metadata": {
        "id": "xGJPxetq-dVN",
        "outputId": "ff191c85-f2aa-4023-e500-1538a8154f46"
      },
      "outputs": [
        {
          "name": "stdout",
          "output_type": "stream",
          "text": [
            "_________________________________________________________________\n",
            "Layer (type)                 Output Shape              Param #   \n",
            "=================================================================\n",
            "dense_1 (Dense)              (None, 256)               200960    \n",
            "_________________________________________________________________\n",
            "activation_1 (Activation)    (None, 256)               0         \n",
            "_________________________________________________________________\n",
            "dropout_1 (Dropout)          (None, 256)               0         \n",
            "_________________________________________________________________\n",
            "dense_2 (Dense)              (None, 256)               65792     \n",
            "_________________________________________________________________\n",
            "activation_2 (Activation)    (None, 256)               0         \n",
            "_________________________________________________________________\n",
            "dropout_2 (Dropout)          (None, 256)               0         \n",
            "_________________________________________________________________\n",
            "dense_3 (Dense)              (None, 10)                2570      \n",
            "_________________________________________________________________\n",
            "activation_3 (Activation)    (None, 10)                0         \n",
            "=================================================================\n",
            "Total params: 269,322\n",
            "Trainable params: 269,322\n",
            "Non-trainable params: 0\n",
            "_________________________________________________________________\n"
          ]
        }
      ],
      "source": [
        "# Deep Multilayer Perceptron model\n",
        "model = Sequential()\n",
        "model.add(Dense(input_dim=im_dim,units=nb_hidden))\n",
        "model.add(Activation('relu'))\n",
        "model.add(Dropout(0.2))\n",
        "model.add(Dense(input_dim=nb_hidden,units=nb_hidden))\n",
        "model.add(Activation('relu'))\n",
        "model.add(Dropout(0.5))\n",
        "model.add(Dense(input_dim=nb_hidden, units=nb_classes))\n",
        "model.add(Activation('softmax'))\n",
        "\n",
        "model.compile(optimizer='adam', loss='categorical_crossentropy', metrics=['accuracy'])\n",
        "model.summary()"
      ]
    },
    {
      "cell_type": "code",
      "execution_count": null,
      "metadata": {
        "id": "c7PKiLt5-dVQ",
        "outputId": "e720e04b-99fb-4b62-a609-81a6e36f36f2"
      },
      "outputs": [
        {
          "name": "stdout",
          "output_type": "stream",
          "text": [
            "Train on 48000 samples, validate on 12000 samples\n",
            "Epoch 1/5\n",
            "48000/48000 [==============================] - 2s 42us/step - loss: 0.4022 - acc: 0.8781 - val_loss: 0.1480 - val_acc: 0.9553\n",
            "Epoch 2/5\n",
            "48000/48000 [==============================] - 2s 36us/step - loss: 0.1665 - acc: 0.9504 - val_loss: 0.1106 - val_acc: 0.9666\n",
            "Epoch 3/5\n",
            "48000/48000 [==============================] - 2s 36us/step - loss: 0.1192 - acc: 0.9637 - val_loss: 0.0903 - val_acc: 0.9720\n",
            "Epoch 4/5\n",
            "48000/48000 [==============================] - 2s 36us/step - loss: 0.0965 - acc: 0.9711 - val_loss: 0.0873 - val_acc: 0.9729\n",
            "Epoch 5/5\n",
            "48000/48000 [==============================] - 2s 37us/step - loss: 0.0790 - acc: 0.9763 - val_loss: 0.0829 - val_acc: 0.9738\n"
          ]
        }
      ],
      "source": [
        "# Train\n",
        "history = model.fit(X_train, Y_train, epochs=nb_epoch, \n",
        "                    validation_split = 0.2,\n",
        "                    batch_size=batch_size, verbose=1)"
      ]
    },
    {
      "cell_type": "code",
      "execution_count": null,
      "metadata": {
        "id": "kPmxCaZn-dVR",
        "outputId": "34173287-f090-45c0-9d45-7ca7cca0c68d"
      },
      "outputs": [
        {
          "name": "stdout",
          "output_type": "stream",
          "text": [
            "10000/10000 [==============================] - 0s 19us/step\n",
            "Summary: Loss over the test dataset: 0.08, Accuracy: 0.98\n"
          ]
        }
      ],
      "source": [
        "# Evaluate\n",
        "evaluation = model.evaluate(X_test, Y_test, verbose=1)\n",
        "print('Summary: Loss over the test dataset: %.2f, Accuracy: %.2f' % (evaluation[0], evaluation[1]))"
      ]
    },
    {
      "cell_type": "code",
      "execution_count": null,
      "metadata": {
        "id": "G29sdFWN-dVT"
      },
      "outputs": [],
      "source": [
        ""
      ]
    },
    {
      "cell_type": "code",
      "execution_count": null,
      "metadata": {
        "id": "wENIu9ZT-dVU"
      },
      "outputs": [],
      "source": [
        ""
      ]
    }
  ],
  "metadata": {
    "kernelspec": {
      "display_name": "Python 3",
      "language": "python",
      "name": "python3"
    },
    "language_info": {
      "codemirror_mode": {
        "name": "ipython",
        "version": 3
      },
      "file_extension": ".py",
      "mimetype": "text/x-python",
      "name": "python",
      "nbconvert_exporter": "python",
      "pygments_lexer": "ipython3",
      "version": "3.6.5"
    },
    "colab": {
      "name": "MLP.ipynb",
      "provenance": []
    }
  },
  "nbformat": 4,
  "nbformat_minor": 0
}