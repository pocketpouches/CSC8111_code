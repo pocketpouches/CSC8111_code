{
  "cells": [
    {
      "cell_type": "code",
      "execution_count": 2,
      "metadata": {
        "id": "ZuAbyCWoVHJe"
      },
      "outputs": [],
      "source": [
        "import numpy as np\n",
        "import matplotlib.pyplot as plt\n",
        "%matplotlib inline"
      ]
    },
    {
      "cell_type": "code",
      "execution_count": 3,
      "metadata": {
        "id": "LbKU3xdFVHJh"
      },
      "outputs": [],
      "source": [
        "# to create dataset\n",
        "m = 30\n",
        "theta0_true = 2\n",
        "theta1_true = 0.5\n",
        "X = np.linspace(-1,1,m)\n",
        "\n",
        "rand_noise_mu = 0\n",
        "rand_noise_std = 0.1\n",
        "\n",
        "rand_noise = np.random.normal(rand_noise_mu, rand_noise_std, m)\n",
        "Y = theta0_true + theta1_true * X + rand_noise  # Y = t1X + (t0 + rand_noise)"
      ]
    },
    {
      "cell_type": "code",
      "execution_count": 4,
      "metadata": {
        "id": "EQ4lorQoVHJk",
        "outputId": "48ea25f4-f5b4-440d-e384-632563d7aad2",
        "colab": {
          "base_uri": "https://localhost:8080/",
          "height": 463
        }
      },
      "outputs": [
        {
          "output_type": "stream",
          "name": "stdout",
          "text": [
            "X [-1.         -0.93103448 -0.86206897 -0.79310345 -0.72413793 -0.65517241\n",
            " -0.5862069  -0.51724138 -0.44827586 -0.37931034 -0.31034483 -0.24137931\n",
            " -0.17241379 -0.10344828 -0.03448276  0.03448276  0.10344828  0.17241379\n",
            "  0.24137931  0.31034483  0.37931034  0.44827586  0.51724138  0.5862069\n",
            "  0.65517241  0.72413793  0.79310345  0.86206897  0.93103448  1.        ]\n",
            "Y [1.54141858 1.46649294 1.71050398 1.62854104 1.74877942 1.63654023\n",
            " 1.58154827 1.61262828 1.66396351 1.81614123 1.87536802 1.91152957\n",
            " 1.92173253 1.81434787 2.0119392  1.97963118 2.05298572 2.13631038\n",
            " 2.18732309 2.25135254 2.20452538 2.25619626 2.17978191 2.12611244\n",
            " 2.12526727 2.32259545 2.32723028 2.49431367 2.53721974 2.56410942]\n"
          ]
        },
        {
          "output_type": "execute_result",
          "data": {
            "text/plain": [
              "<matplotlib.collections.PathCollection at 0x7fe6d6a4a190>"
            ]
          },
          "metadata": {},
          "execution_count": 4
        },
        {
          "output_type": "display_data",
          "data": {
            "text/plain": [
              "<Figure size 432x288 with 1 Axes>"
            ],
            "image/png": "[encoded data removed]"
          },
          "metadata": {
            "needs_background": "light"
          }
        }
      ],
      "source": [
        "#print and plot the data\n",
        "print('X',X)\n",
        "print('Y',Y)\n",
        "\n",
        "plt.scatter(X, Y)"
      ]
    },
    {
      "cell_type": "code",
      "execution_count": 5,
      "metadata": {
        "id": "nEvYMJ4WVHJl"
      },
      "outputs": [],
      "source": [
        "#define the cost/loss function and gradient descent function\n",
        "\n",
        "def cost_MSE(theta0,theta1,X,Y):\n",
        "    hypothesis = theta0 + theta1*X\n",
        "    m = len(X)\n",
        "    return (1/(2.0*m))*((np.square(hypothesis-Y)).sum(axis=0))  # SUM (1/2m * sqrt(hypothesis-Y))\n",
        "\n",
        "\n",
        "def gradientDescent(theta0,theta1,X,Y,iterations,alpha):\n",
        "    count = 1\n",
        "    cost_log = np.array([])\n",
        "    m = len(X)\n",
        "    \n",
        "    # the actual gradient descent bit\n",
        "    while(count <= iterations):\n",
        "        hypothesis = theta0 + theta1*X\n",
        "        theta0 = theta0 - alpha*(1.0/m)*((hypothesis-Y)).sum(axis=0)  # in notes, delta theta = ...; delta is CHANGE IN so theta = theta - .... is appropriate\n",
        "        theta1 = theta1 - alpha*(1.0/m)*((hypothesis-Y)*X).sum(axis=0)\n",
        "        cost_log = np.append(cost_log,cost_MSE(theta0,theta1,X,Y))\n",
        "        count = count + 1\n",
        "        \n",
        "    plt.subplot(121)  # same as 1, 2, 1. one row, two columns. filling graphs in from the first graph in the upper left\n",
        "    plt.plot(np.linspace(1,iterations,iterations,endpoint=True),cost_log) # y is cost_log, x is the linear space including the final iteration\n",
        "    plt.title(\"Cost/Loss wrt iteration\")\n",
        "    plt.xlabel(\"Number of iteration\")\n",
        "    plt.ylabel(\"Cost/Loss\")\n",
        "    \n",
        "    \n",
        "    plt.subplot(122)  # the following graph will be second along the first row\n",
        "    plt.scatter(X, Y) # create dots of Y against X\n",
        "    plt.plot(X, theta0 + theta1*X)  # linear regression of the final y = t1X + t0 against X\n",
        "    plt.show()\n",
        "    \n",
        "    \n",
        "    return theta0,theta1"
      ]
    },
    {
      "cell_type": "code",
      "execution_count": 6,
      "metadata": {
        "id": "VA2uFKC0VHJn",
        "outputId": "4ff154ff-5da6-48f3-a656-11d11ef4a124",
        "colab": {
          "base_uri": "https://localhost:8080/",
          "height": 331
        }
      },
      "outputs": [
        {
          "output_type": "display_data",
          "data": {
            "text/plain": [
              "<Figure size 720x288 with 2 Axes>"
            ],
            "image/png": "[encoded data removed]"
          },
          "metadata": {
            "needs_background": "light"
          }
        },
        {
          "output_type": "stream",
          "name": "stdout",
          "text": [
            "theta0: 1.9885126119788272\n",
            "theta1: 0.4892452698246867\n"
          ]
        }
      ],
      "source": [
        "alpha = 0.3 # learning rate\n",
        "iterations = 20\n",
        "\n",
        "Thetas_Init = np.random.rand(2)  # 2 thetas [0, 1) in a singular array\n",
        "\n",
        "plt.figure(figsize=(10, 4))  # figure will be ten inches width, 4 inches height\n",
        "\n",
        "theta0,theta1 = gradientDescent(Thetas_Init[0],Thetas_Init[1], X, Y,iterations,alpha)\n",
        "print('theta0:', theta0)\n",
        "print('theta1:', theta1)"
      ]
    },
    {
      "cell_type": "code",
      "execution_count": null,
      "metadata": {
        "collapsed": true,
        "id": "NuU-uqu-VHJo"
      },
      "outputs": [],
      "source": [
        ""
      ]
    }
  ],
  "metadata": {
    "kernelspec": {
      "display_name": "Python 3",
      "language": "python",
      "name": "python3"
    },
    "language_info": {
      "codemirror_mode": {
        "name": "ipython",
        "version": 3
      },
      "file_extension": ".py",
      "mimetype": "text/x-python",
      "name": "python",
      "nbconvert_exporter": "python",
      "pygments_lexer": "ipython3",
      "version": "3.6.5"
    },
    "colab": {
      "name": "linear_regression_python.ipynb",
      "provenance": []
    }
  },
  "nbformat": 4,
  "nbformat_minor": 0
}